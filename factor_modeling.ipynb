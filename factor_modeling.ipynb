{
 "cells": [
  {
   "cell_type": "code",
   "execution_count": 1,
   "metadata": {},
   "outputs": [
    {
     "name": "stdout",
     "output_type": "stream",
     "text": [
      "Requirement already satisfied: yfinance in c:\\users\\bvrad\\appdata\\local\\programs\\python\\python310\\lib\\site-packages (0.2.36)\n",
      "Requirement already satisfied: pandas>=1.3.0 in c:\\users\\bvrad\\appdata\\local\\programs\\python\\python310\\lib\\site-packages (from yfinance) (1.4.3)\n",
      "Requirement already satisfied: numpy>=1.16.5 in c:\\users\\bvrad\\appdata\\local\\programs\\python\\python310\\lib\\site-packages (from yfinance) (1.23.2)\n",
      "Requirement already satisfied: requests>=2.31 in c:\\users\\bvrad\\appdata\\local\\programs\\python\\python310\\lib\\site-packages (from yfinance) (2.31.0)\n",
      "Requirement already satisfied: multitasking>=0.0.7 in c:\\users\\bvrad\\appdata\\local\\programs\\python\\python310\\lib\\site-packages (from yfinance) (0.0.11)\n",
      "Requirement already satisfied: lxml>=4.9.1 in c:\\users\\bvrad\\appdata\\local\\programs\\python\\python310\\lib\\site-packages (from yfinance) (4.9.1)\n",
      "Requirement already satisfied: appdirs>=1.4.4 in c:\\users\\bvrad\\appdata\\local\\programs\\python\\python310\\lib\\site-packages (from yfinance) (1.4.4)\n",
      "Requirement already satisfied: pytz>=2022.5 in c:\\users\\bvrad\\appdata\\local\\programs\\python\\python310\\lib\\site-packages (from yfinance) (2023.3.post1)\n",
      "Requirement already satisfied: frozendict>=2.3.4 in c:\\users\\bvrad\\appdata\\local\\programs\\python\\python310\\lib\\site-packages (from yfinance) (2.4.0)\n",
      "Requirement already satisfied: peewee>=3.16.2 in c:\\users\\bvrad\\appdata\\local\\programs\\python\\python310\\lib\\site-packages (from yfinance) (3.17.0)\n",
      "Requirement already satisfied: beautifulsoup4>=4.11.1 in c:\\users\\bvrad\\appdata\\local\\programs\\python\\python310\\lib\\site-packages (from yfinance) (4.11.1)\n",
      "Requirement already satisfied: html5lib>=1.1 in c:\\users\\bvrad\\appdata\\local\\programs\\python\\python310\\lib\\site-packages (from yfinance) (1.1)\n",
      "Requirement already satisfied: soupsieve>1.2 in c:\\users\\bvrad\\appdata\\local\\programs\\python\\python310\\lib\\site-packages (from beautifulsoup4>=4.11.1->yfinance) (2.3.2.post1)\n",
      "Requirement already satisfied: six>=1.9 in c:\\users\\bvrad\\appdata\\local\\programs\\python\\python310\\lib\\site-packages (from html5lib>=1.1->yfinance) (1.16.0)\n",
      "Requirement already satisfied: webencodings in c:\\users\\bvrad\\appdata\\local\\programs\\python\\python310\\lib\\site-packages (from html5lib>=1.1->yfinance) (0.5.1)\n",
      "Requirement already satisfied: python-dateutil>=2.8.1 in c:\\users\\bvrad\\appdata\\local\\programs\\python\\python310\\lib\\site-packages (from pandas>=1.3.0->yfinance) (2.8.2)\n",
      "Requirement already satisfied: charset-normalizer<4,>=2 in c:\\users\\bvrad\\appdata\\local\\programs\\python\\python310\\lib\\site-packages (from requests>=2.31->yfinance) (2.1.1)\n",
      "Requirement already satisfied: idna<4,>=2.5 in c:\\users\\bvrad\\appdata\\local\\programs\\python\\python310\\lib\\site-packages (from requests>=2.31->yfinance) (3.3)\n",
      "Requirement already satisfied: urllib3<3,>=1.21.1 in c:\\users\\bvrad\\appdata\\local\\programs\\python\\python310\\lib\\site-packages (from requests>=2.31->yfinance) (1.26.12)\n",
      "Requirement already satisfied: certifi>=2017.4.17 in c:\\users\\bvrad\\appdata\\local\\programs\\python\\python310\\lib\\site-packages (from requests>=2.31->yfinance) (2022.6.15.1)\n"
     ]
    },
    {
     "name": "stderr",
     "output_type": "stream",
     "text": [
      "\n",
      "[notice] A new release of pip is available: 23.1.2 -> 23.3.2\n",
      "[notice] To update, run: python.exe -m pip install --upgrade pip\n"
     ]
    }
   ],
   "source": [
    "!pip install yfinance"
   ]
  },
  {
   "cell_type": "code",
   "execution_count": 3,
   "metadata": {},
   "outputs": [],
   "source": [
    "import pandas as pd\n",
    "import yfinance as yf\n",
    "import numpy as np\n",
    "from sklearn.preprocessing import StandardScaler\n",
    "from sklearn.linear_model import LinearRegression"
   ]
  },
  {
   "cell_type": "markdown",
   "metadata": {},
   "source": [
    "# Question 1:\n",
    " \n",
    "Generate 1500 data points for the variables x, y, z with the Python (or using another language of your choice) commands.\n",
    "\n",
    "Do a Principal Components Analysis (PCA) on the sample of three-dimensional observations, and write down the three components and the corresponding principal values. (If they are not vectors of length 3, you are doing something wrong.) Check that the pointwise products of the components are zero (up to machine precision). Write down the dot (i.e. pointwise) product of the first and third components, and compare that with the dot product of xdata and zdata. \n"
   ]
  },
  {
   "cell_type": "code",
   "execution_count": 6,
   "metadata": {},
   "outputs": [],
   "source": [
    "# Generate 1500 data points for x, y, and z\n",
    "mean = np.array([2, 3, 0])\n",
    "matrix_m = np.array([[10, 7, 5], [7, 6, 4], [5, 4, 3]])\n",
    "sample = np.random.multivariate_normal(mean, matrix_m, 1500).T\n",
    "\n",
    "# Separate the data into xdata, ydata, and zdata\n",
    "x_data = sample[0, :]\n",
    "y_data = sample[1, :]\n",
    "z_data = sample[2, :]\n",
    "\n",
    "#combine the data\n",
    "xyz_data = np.vstack((x_data, y_data, z_data)).T"
   ]
  },
  {
   "cell_type": "markdown",
   "metadata": {},
   "source": [
    "### Mean & Centred Matrix"
   ]
  },
  {
   "cell_type": "code",
   "execution_count": 8,
   "metadata": {},
   "outputs": [
    {
     "data": {
      "text/plain": [
       "array([[-0.10032962, -1.31959638,  0.02155964],\n",
       "       [ 0.3504718 , -0.00232677,  0.36438307],\n",
       "       [-0.83946646, -1.15294744, -0.98627194],\n",
       "       ...,\n",
       "       [ 0.99335398,  1.08596985, -0.01064963],\n",
       "       [ 1.8544664 , -0.11734681,  0.24956654],\n",
       "       [ 1.7070037 , -0.48077755, -0.01253713]])"
      ]
     },
     "execution_count": 8,
     "metadata": {},
     "output_type": "execute_result"
    }
   ],
   "source": [
    "#calculate the mean\n",
    "xyz_mean = np.mean(xyz_data, axis=0)\n",
    "\n",
    "#Subtract the mean from the respective data points\n",
    "xyz_centred = xyz_data - xyz_mean\n",
    "xyz_centred"
   ]
  },
  {
   "cell_type": "markdown",
   "metadata": {},
   "source": [
    "### Covariance Matrix - First Principles"
   ]
  },
  {
   "cell_type": "code",
   "execution_count": 9,
   "metadata": {},
   "outputs": [
    {
     "data": {
      "text/plain": [
       "array([[9.72231028, 6.85500445, 4.95713227],\n",
       "       [6.85500445, 5.91652483, 3.96750888],\n",
       "       [4.95713227, 3.96750888, 3.00291085]])"
      ]
     },
     "execution_count": 9,
     "metadata": {},
     "output_type": "execute_result"
    }
   ],
   "source": [
    "#factoring degrees of freedom\n",
    "n = sample.shape[1]\n",
    "cov_matrix = np.dot(xyz_centred.T, xyz_centred)/ (n-1)\n",
    "cov_matrix"
   ]
  },
  {
   "cell_type": "code",
   "execution_count": 10,
   "metadata": {},
   "outputs": [
    {
     "data": {
      "text/plain": [
       "array([[9.72231028, 6.85500445, 4.95713227],\n",
       "       [6.85500445, 5.91652483, 3.96750888],\n",
       "       [4.95713227, 3.96750888, 3.00291085]])"
      ]
     },
     "execution_count": 10,
     "metadata": {},
     "output_type": "execute_result"
    }
   ],
   "source": [
    "#Checking with Black Box\n",
    "cov = np.cov(xyz_centred, rowvar=False)\n",
    "cov"
   ]
  },
  {
   "cell_type": "markdown",
   "metadata": {},
   "source": [
    "### Eigen Values and Vectors & Principal Components"
   ]
  },
  {
   "cell_type": "code",
   "execution_count": 11,
   "metadata": {},
   "outputs": [],
   "source": [
    "eigenvalues, eigenvectors = np.linalg.eig(cov_matrix)\n",
    "\n",
    "#sort values eigen vector according to eigen value\n",
    "indices = np.argsort(eigenvalues)[::-1]\n",
    "eigenvalues = eigenvalues[indices]\n",
    "eigenvectors = eigenvectors[:, indices]"
   ]
  },
  {
   "cell_type": "code",
   "execution_count": 12,
   "metadata": {},
   "outputs": [],
   "source": [
    "# Principal Values\n",
    "princ_val_1 = eigenvalues[0]\n",
    "princ_val_2 = eigenvalues[1]\n",
    "princ_val_3 = eigenvalues[2]\n",
    "\n",
    "# Principal Components\n",
    "comp_1 = eigenvectors[:, 0]\n",
    "comp_2 = eigenvectors[:, 1]\n",
    "comp_3 = eigenvectors[:, 2]"
   ]
  },
  {
   "cell_type": "code",
   "execution_count": 13,
   "metadata": {},
   "outputs": [
    {
     "name": "stdout",
     "output_type": "stream",
     "text": [
      "Pointwise products of components:\n",
      " [[ 1.00000000e+00 -7.69461636e-17  2.61766241e-17]\n",
      " [-7.69461636e-17  1.00000000e+00  7.29908294e-16]\n",
      " [ 2.61766241e-17  7.29908294e-16  1.00000000e+00]]\n"
     ]
    }
   ],
   "source": [
    "# Check that the pointwise products of the components are zero (up to machine precision)\n",
    "component_products = np.dot(eigenvectors.T, eigenvectors)\n",
    "print(\"Pointwise products of components:\\n\", component_products)"
   ]
  },
  {
   "cell_type": "markdown",
   "metadata": {},
   "source": [
    "### Pointwise Products of Components"
   ]
  },
  {
   "cell_type": "code",
   "execution_count": 14,
   "metadata": {},
   "outputs": [
    {
     "name": "stdout",
     "output_type": "stream",
     "text": [
      "Product of component 1 and 2: -7.694616362318486e-17\n",
      "Product of component 1 and 3: 2.617662409443183e-17\n",
      "Product of component 2 and 3: 7.299082944306094e-16\n"
     ]
    }
   ],
   "source": [
    "# Check pointwise products of components\n",
    "product_12 = np.dot(comp_1, comp_2)\n",
    "product_13 = np.dot(comp_1, comp_3)\n",
    "product_23 = np.dot(comp_2, comp_3)\n",
    "\n",
    "print('Product of component 1 and 2:', product_12)\n",
    "print('Product of component 1 and 3:', product_13)\n",
    "print('Product of component 2 and 3:', product_23)"
   ]
  },
  {
   "cell_type": "code",
   "execution_count": 15,
   "metadata": {},
   "outputs": [
    {
     "name": "stdout",
     "output_type": "stream",
     "text": [
      "Pointwise products of the components are approximately 0.\n"
     ]
    }
   ],
   "source": [
    "# Check if pointwise products are close to zero\n",
    "if np.isclose(product_12, 0) and np.isclose(product_13, 0) and np.isclose(product_23, 0):\n",
    "    print(\"Pointwise products of the components are approximately 0.\")\n",
    "else:\n",
    "    print(\"Pointwise products of the components are not 0.\")"
   ]
  }
 ],
 "metadata": {
  "kernelspec": {
   "display_name": "Python 3",
   "language": "python",
   "name": "python3"
  },
  "language_info": {
   "codemirror_mode": {
    "name": "ipython",
    "version": 3
   },
   "file_extension": ".py",
   "mimetype": "text/x-python",
   "name": "python",
   "nbconvert_exporter": "python",
   "pygments_lexer": "ipython3",
   "version": "3.10.6"
  }
 },
 "nbformat": 4,
 "nbformat_minor": 2
}
